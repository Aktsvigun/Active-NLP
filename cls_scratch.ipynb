{
 "cells": [
  {
   "cell_type": "code",
   "execution_count": 6,
   "metadata": {},
   "outputs": [],
   "source": [
    "class baseRNN(nn.Module):\n",
    "\n",
    "    def __init__(self, vocab_size, hidden_size, input_dropout_p, output_dropout_p, n_layers, rnn_cell, max_len=25):\n",
    "        super(baseRNN, self).__init__()\n",
    "        \n",
    "        self.vocab_size = vocab_size\n",
    "        self.hidden_size = hidden_size\n",
    "        self.n_layers = n_layers\n",
    "        self.max_len = max_len\n",
    "        \n",
    "        self.input_dropout_p = input_dropout_p\n",
    "        self.output_dropout_p = output_dropout_p\n",
    "        \n",
    "        if rnn_cell.lower() == 'lstm':\n",
    "            self.rnn_cell = nn.LSTM\n",
    "        elif rnn_cell.lower() == 'gru':\n",
    "            self.rnn_cell = nn.GRU\n",
    "        else:\n",
    "            raise ValueError(\"Unsupported RNN Cell: {0}\".format(rnn_cell))\n",
    "\n",
    "        self.input_dropout = nn.Dropout(p=input_dropout_p)\n",
    "\n",
    "    def forward(self, *args, **kwargs):\n",
    "        raise NotImplementedError()\n",
    "\n",
    "\n",
    "\n",
    "class EncoderRNN(baseRNN):\n",
    "\n",
    "    def __init__(self, vocab_size, embedding_size ,hidden_size= 200, input_dropout_p=0, \n",
    "                 output_dropout_p=0, n_layers=1, bidirectional=True, rnn_cell='lstm'):\n",
    "        \n",
    "        super(EncoderRNN, self).__init__(vocab_size, hidden_size, input_dropout_p, \n",
    "                                             output_dropout_p, n_layers, rnn_cell)\n",
    "\n",
    "        self.embedding = nn.Embedding(vocab_size, embedding_size)\n",
    "        \n",
    "        self.rnn = self.rnn_cell(embedding_size, hidden_size, n_layers,\n",
    "                                 bidirectional=bidirectional, dropout=output_dropout_p,\n",
    "                                 batch_first=True)\n",
    "\n",
    "    def forward(self, words, input_lengths):\n",
    "        \n",
    "        batch_size = words.size()[0]\n",
    "        embedded = self.embedding(words)\n",
    "        embedded = self.input_dropout(embedded)\n",
    "        embedded = nn.utils.rnn.pack_padded_sequence(embedded, input_lengths, batch_first= True)\n",
    "        _, output = self.rnn(embedded)\n",
    "        output = output[0].transpose(0,1).contiguous().view(batch_size, -1)\n",
    "        return output"
   ]
  },
  {
   "cell_type": "code",
   "execution_count": 7,
   "metadata": {},
   "outputs": [],
   "source": [
    "from neural_cls.util import Trainer, Loader\n",
    "\n",
    "from neural_cls.util.utils import *"
   ]
  },
  {
   "cell_type": "code",
   "execution_count": 2,
   "metadata": {},
   "outputs": [],
   "source": [
    "loader = Loader()"
   ]
  },
  {
   "cell_type": "code",
   "execution_count": 23,
   "metadata": {},
   "outputs": [],
   "source": [
    "from collections import OrderedDict"
   ]
  },
  {
   "cell_type": "code",
   "execution_count": null,
   "metadata": {},
   "outputs": [],
   "source": [
    "parameters = OrderedDict()"
   ]
  },
  {
   "cell_type": "code",
   "execution_count": 5,
   "metadata": {},
   "outputs": [
    {
     "name": "stdout",
     "output_type": "stream",
     "text": [
      "Found 9072 unique words (179887 in total)\n",
      "Loading pretrained embeddings from wordvectors/glove.6B.100d.txt...\n",
      "Found 2 unique named entity tags\n"
     ]
    }
   ],
   "source": [
    "train_data, test_data , mappings = loader.load_mareview('datasets/mareview','wordvectors/glove.6B.100d.txt',100)"
   ]
  },
  {
   "cell_type": "code",
   "execution_count": 8,
   "metadata": {},
   "outputs": [],
   "source": [
    "train_data_batches = create_batches(train_data, 16, order='random')"
   ]
  },
  {
   "cell_type": "code",
   "execution_count": 9,
   "metadata": {},
   "outputs": [],
   "source": [
    "datax = train_data_batches[0]"
   ]
  },
  {
   "cell_type": "code",
   "execution_count": 10,
   "metadata": {},
   "outputs": [],
   "source": [
    "words = datax['words']\n",
    "tags = datax['tags']\n",
    "\n",
    "wordslen = datax['wordslen']"
   ]
  },
  {
   "cell_type": "code",
   "execution_count": 12,
   "metadata": {},
   "outputs": [
    {
     "data": {
      "text/plain": [
       "array([[   11,   395,    21,    11,   248,    25,    85,  1265,     7,\n",
       "         1364,    40,    13,     5,    16,     7,   820,     6,  1836,\n",
       "           17,   389,     4,     5,  1169,   386,    17,  2034,     6,\n",
       "            5,   233,  6368,    28,   446,     4,   139,  5650,     6,\n",
       "         1707,     4,    17,   765,     2],\n",
       "       [ 7948,   186,    28,     3,  2133,     9,  3071,   129,   153,\n",
       "            1,    96,    79,   125,  2720,     8,     3,  1798,     4,\n",
       "           14,   142,   651,   221,     7,  8586,  1572,     6,  1304,\n",
       "            1,  4179,     2,     0,     0,     0,     0,     0,     0,\n",
       "            0,     0,     0,     0,     0],\n",
       "       [   22,    26,   318,    13,   439,    44,   379,    13,    20,\n",
       "         1502,     4,    14,    73,    33,    72,   308,   748,     8,\n",
       "          269,    18,    35,   153,     5,   959,   834,     7,    60,\n",
       "            2,     0,     0,     0,     0,     0,     0,     0,     0,\n",
       "            0,     0,     0,     0,     0],\n",
       "       [ 2480,   251,     1,     5,  1636,    11,     9,    42,   488,\n",
       "           11,    24,   227,  1014,  5911,  5301,    34,   103,     4,\n",
       "          329,     8,  1006,   103,     6,  2330,    43,  8479,  3258,\n",
       "            2,     0,     0,     0,     0,     0,     0,     0,     0,\n",
       "            0,     0,     0,     0,     0],\n",
       "       [    3,    21,     4,   390,    27,  4246,   915,     4,   569,\n",
       "           55,  1564, 11607,     4,    35,     3,   334,   113,     8,\n",
       "            3,    64,   724,    52,     7,  1083,   770,     2,     0,\n",
       "            0,     0,     0,     0,     0,     0,     0,     0,     0,\n",
       "            0,     0,     0,     0,     0],\n",
       "       [   55,   138,     1,     4,   127,   106,     8,   116,     4,\n",
       "         9067,   942,     4,    48,   114,  4087,     6,     5,  3223,\n",
       "          365,    69,    17,     5,    89,    16,     2,     0,     0,\n",
       "            0,     0,     0,     0,     0,     0,     0,     0,     0,\n",
       "            0,     0,     0,     0,     0],\n",
       "       [   74,     5,    21,    29,  1813,   289,    17,    18,   130,\n",
       "            4,    24,   242,   101,   112,    73,     2,    22,    11,\n",
       "           57,     2,     0,     0,     0,     0,     0,     0,     0,\n",
       "            0,     0,     0,     0,     0,     0,     0,     0,     0,\n",
       "            0,     0,     0,     0,     0],\n",
       "       [ 1433,    10,     3,     1,     1,  1869,     4,     6,    18,\n",
       "            9,   252,    46,    41,   566,    12,     5,     1,  3581,\n",
       "            2,     0,     0,     0,     0,     0,     0,     0,     0,\n",
       "            0,     0,     0,     0,     0,     0,     0,     0,     0,\n",
       "            0,     0,     0,     0,     0],\n",
       "       [  789,   372,   214,   137,    52,     7,     3,     1,     4,\n",
       "          848,  1041,   107,    52,     4,    14,  6114,    10,     3,\n",
       "          746,     0,     0,     0,     0,     0,     0,     0,     0,\n",
       "            0,     0,     0,     0,     0,     0,     0,     0,     0,\n",
       "            0,     0,     0,     0,     0],\n",
       "       [    3,  6639,  7827,  1258,     5,  1390,     8,   629,    17,\n",
       "           88,  1047,  2723,     2,     2,     2,     0,     0,     0,\n",
       "            0,     0,     0,     0,     0,     0,     0,     0,     0,\n",
       "            0,     0,     0,     0,     0,     0,     0,     0,     0,\n",
       "            0,     0,     0,     0,     0],\n",
       "       [   97,     3,  1520,  1829,   225,     8,  1239,     4,  5356,\n",
       "          610,  1675, 11144,     2,     0,     0,     0,     0,     0,\n",
       "            0,     0,     0,     0,     0,     0,     0,     0,     0,\n",
       "            0,     0,     0,     0,     0,     0,     0,     0,     0,\n",
       "            0,     0,     0,     0,     0],\n",
       "       [    3,   360,   138,  6001,     1,    98,     6,     1,    95,\n",
       "         1456,   378,     2,     0,     0,     0,     0,     0,     0,\n",
       "            0,     0,     0,     0,     0,     0,     0,     0,     0,\n",
       "            0,     0,     0,     0,     0,     0,     0,     0,     0,\n",
       "            0,     0,     0,     0,     0],\n",
       "       [  230,  6640,    17,     1,   541,     6,   799,  1083,   179,\n",
       "            2,     0,     0,     0,     0,     0,     0,     0,     0,\n",
       "            0,     0,     0,     0,     0,     0,     0,     0,     0,\n",
       "            0,     0,     0,     0,     0,     0,     0,     0,     0,\n",
       "            0,     0,     0,     0,     0],\n",
       "       [    2,     2,     2,   314,     1,     2,     2,     2,     0,\n",
       "            0,     0,     0,     0,     0,     0,     0,     0,     0,\n",
       "            0,     0,     0,     0,     0,     0,     0,     0,     0,\n",
       "            0,     0,     0,     0,     0,     0,     0,     0,     0,\n",
       "            0,     0,     0,     0,     0],\n",
       "       [ 2573,   760,     8,    41,    12,   139,   526,     2,     0,\n",
       "            0,     0,     0,     0,     0,     0,     0,     0,     0,\n",
       "            0,     0,     0,     0,     0,     0,     0,     0,     0,\n",
       "            0,     0,     0,     0,     0,     0,     0,     0,     0,\n",
       "            0,     0,     0,     0,     0],\n",
       "       [ 1540,    14,     1,     2,     0,     0,     0,     0,     0,\n",
       "            0,     0,     0,     0,     0,     0,     0,     0,     0,\n",
       "            0,     0,     0,     0,     0,     0,     0,     0,     0,\n",
       "            0,     0,     0,     0,     0,     0,     0,     0,     0,\n",
       "            0,     0,     0,     0,     0]])"
      ]
     },
     "execution_count": 12,
     "metadata": {},
     "output_type": "execute_result"
    }
   ],
   "source": [
    "words"
   ]
  },
  {
   "cell_type": "code",
   "execution_count": 15,
   "metadata": {},
   "outputs": [
    {
     "data": {
      "text/plain": [
       "torch.Size([32])"
      ]
     },
     "execution_count": 15,
     "metadata": {},
     "output_type": "execute_result"
    }
   ],
   "source": [
    "tags.size()"
   ]
  },
  {
   "cell_type": "code",
   "execution_count": 16,
   "metadata": {},
   "outputs": [],
   "source": [
    "model = EncoderRNN(len(mappings['word_to_id']),100)"
   ]
  },
  {
   "cell_type": "code",
   "execution_count": 17,
   "metadata": {},
   "outputs": [
    {
     "data": {
      "text/plain": [
       "EncoderRNN(\n",
       "  (input_dropout): Dropout(p=0)\n",
       "  (embedding): Embedding(3920, 100)\n",
       "  (rnn): LSTM(100, 200, batch_first=True, bidirectional=True)\n",
       ")"
      ]
     },
     "execution_count": 17,
     "metadata": {},
     "output_type": "execute_result"
    }
   ],
   "source": [
    "model.cuda()"
   ]
  },
  {
   "cell_type": "code",
   "execution_count": 18,
   "metadata": {},
   "outputs": [],
   "source": [
    "out = model(words, wordslen)"
   ]
  },
  {
   "cell_type": "code",
   "execution_count": 19,
   "metadata": {},
   "outputs": [
    {
     "data": {
      "text/plain": [
       "torch.Size([32, 400])"
      ]
     },
     "execution_count": 19,
     "metadata": {},
     "output_type": "execute_result"
    }
   ],
   "source": [
    "out.size()"
   ]
  },
  {
   "cell_type": "code",
   "execution_count": 20,
   "metadata": {},
   "outputs": [],
   "source": [
    "a = torch.randn(5,3)"
   ]
  },
  {
   "cell_type": "code",
   "execution_count": 21,
   "metadata": {},
   "outputs": [
    {
     "data": {
      "text/plain": [
       "\n",
       "-0.3638  0.1268 -1.0684\n",
       " 0.0629 -2.3955  0.3162\n",
       " 1.7154  0.8197 -0.1374\n",
       " 0.9420  0.4794  0.4138\n",
       "-1.1787 -0.1383  1.0538\n",
       "[torch.FloatTensor of size 5x3]"
      ]
     },
     "execution_count": 21,
     "metadata": {},
     "output_type": "execute_result"
    }
   ],
   "source": [
    "a"
   ]
  },
  {
   "cell_type": "code",
   "execution_count": 22,
   "metadata": {},
   "outputs": [
    {
     "data": {
      "text/plain": [
       "(\n",
       "  0.1268\n",
       "  0.3162\n",
       "  1.7154\n",
       "  0.9420\n",
       "  1.0538\n",
       " [torch.FloatTensor of size 5], \n",
       "  1\n",
       "  2\n",
       "  0\n",
       "  0\n",
       "  2\n",
       " [torch.LongTensor of size 5])"
      ]
     },
     "execution_count": 22,
     "metadata": {},
     "output_type": "execute_result"
    }
   ],
   "source": [
    "torch.max(a,1)"
   ]
  }
 ],
 "metadata": {
  "kernelspec": {
   "display_name": "Python [conda env:pytorch_p27]",
   "language": "python",
   "name": "conda-env-pytorch_p27-py"
  },
  "language_info": {
   "codemirror_mode": {
    "name": "ipython",
    "version": 2
   },
   "file_extension": ".py",
   "mimetype": "text/x-python",
   "name": "python",
   "nbconvert_exporter": "python",
   "pygments_lexer": "ipython2",
   "version": "2.7.14"
  }
 },
 "nbformat": 4,
 "nbformat_minor": 2
}
