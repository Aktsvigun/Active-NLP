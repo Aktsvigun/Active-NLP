{
 "cells": [
  {
   "cell_type": "code",
   "execution_count": 2,
   "metadata": {},
   "outputs": [],
   "source": [
    "import pickle as pkl\n",
    "data_sample_1, data_sample_2, mappings = pkl.load(open('abcd.p','rb'))\n",
    "data_sample_1 = data_sample_1[:100]"
   ]
  },
  {
   "cell_type": "code",
   "execution_count": 3,
   "metadata": {},
   "outputs": [],
   "source": [
    "from word_language_model.lmapi import lmAPI\n",
    "lmapi = lmAPI(mappings)"
   ]
  },
  {
   "cell_type": "code",
   "execution_count": 4,
   "metadata": {},
   "outputs": [
    {
     "name": "stderr",
     "output_type": "stream",
     "text": [
      "/home/siddhant/anaconda3/envs/py27/lib/python2.7/site-packages/torch/nn/modules/rnn.py:38: UserWarning: dropout option adds dropout after all but last recurrent layer, so non-zero dropout expects num_layers greater than 1, but got dropout=0.2 and num_layers=1\n",
      "  \"num_layers={}\".format(dropout, num_layers))\n"
     ]
    }
   ],
   "source": [
    "lmapi.train_lm(data_sample_1)"
   ]
  },
  {
   "cell_type": "code",
   "execution_count": 5,
   "metadata": {},
   "outputs": [],
   "source": [
    "import torch\n",
    "model = torch.load('lmweights')"
   ]
  },
  {
   "cell_type": "code",
   "execution_count": 6,
   "metadata": {},
   "outputs": [],
   "source": [
    "from neural_cls.util.utils import *"
   ]
  },
  {
   "cell_type": "code",
   "execution_count": 7,
   "metadata": {},
   "outputs": [
    {
     "name": "stdout",
     "output_type": "stream",
     "text": [
      "6.864829327357891\n"
     ]
    }
   ],
   "source": [
    "batches = create_lms_batches(data_sample_1, batch_size=10, eos_token=lmapi.eos_token)\n",
    "\n",
    "words = batches[0]['words']\n",
    "targets = batches[0]['targets']\n",
    "wordslen = batches[0]['wordslen']\n",
    "words = torch.LongTensor(words)\n",
    "targets = torch.LongTensor(targets)\n",
    "\n",
    "score = model.get_pplx(words, targets, lmapi.ntokens)\n",
    "\n",
    "norm_score = score/np.array(wordslen)\n",
    "print(sum(norm_score)/len(norm_score))"
   ]
  },
  {
   "cell_type": "code",
   "execution_count": 8,
   "metadata": {},
   "outputs": [
    {
     "name": "stdout",
     "output_type": "stream",
     "text": [
      "7.403106627358218\n"
     ]
    }
   ],
   "source": [
    "batches = create_lms_batches(data_sample_2, batch_size=10, eos_token=lmapi.eos_token)\n",
    "\n",
    "words = batches[0]['words']\n",
    "targets = batches[0]['targets']\n",
    "wordslen = batches[0]['wordslen']\n",
    "words = torch.LongTensor(words)\n",
    "targets = torch.LongTensor(targets)\n",
    "\n",
    "score = model.get_pplx(words, targets, lmapi.ntokens)\n",
    "\n",
    "norm_score = score/np.array(wordslen)\n",
    "print(sum(norm_score)/len(norm_score))"
   ]
  },
  {
   "cell_type": "code",
   "execution_count": null,
   "metadata": {},
   "outputs": [],
   "source": []
  },
  {
   "cell_type": "code",
   "execution_count": null,
   "metadata": {},
   "outputs": [],
   "source": []
  },
  {
   "cell_type": "code",
   "execution_count": null,
   "metadata": {},
   "outputs": [],
   "source": []
  }
 ],
 "metadata": {
  "kernelspec": {
   "display_name": "Python 2",
   "language": "python",
   "name": "python2"
  },
  "language_info": {
   "codemirror_mode": {
    "name": "ipython",
    "version": 2
   },
   "file_extension": ".py",
   "mimetype": "text/x-python",
   "name": "python",
   "nbconvert_exporter": "python",
   "pygments_lexer": "ipython2",
   "version": "2.7.15"
  }
 },
 "nbformat": 4,
 "nbformat_minor": 2
}
